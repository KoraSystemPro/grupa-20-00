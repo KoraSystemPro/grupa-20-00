{
 "cells": [
  {
   "cell_type": "markdown",
   "id": "b5001af3",
   "metadata": {},
   "source": [
    "# Problem Ranca\n",
    "- Za zadatu masu koju možete da stavite u ranac, treba napakovati ranac tako da je njegova ukupna vrednost najveća!\n",
    "\n",
    "- Primer:\n",
    "Korpa = 40kg\n",
    "Proizvodi = [“iPad”, “PS5”, “4k Oled”, “Bicikl”, “Laptop”, “Desktop”]\n",
    "Cena = [500, 800, 1700, 1300, 700, 1200]\n",
    "Tezina = [5kg, 10kg, 20kg, 15kg, 8kg, 12kg]\n",
    "\n",
    "\n",
    "Ideje:\n",
    "- Probamo sve kombinacije i nađemo najskuplju\n",
    "- Odnos cene i težine"
   ]
  },
  {
   "cell_type": "code",
   "execution_count": 19,
   "id": "fa8a7ac3",
   "metadata": {},
   "outputs": [],
   "source": [
    "ranac = 40\n",
    "proizvodi = [\"Bager\", \"iPad\", \"PS5\", \"4k Oled\", \"Bicikl\", \"Laptop\", \"Desktop\"]\n",
    "cena = [15000, 500, 800, 1700, 1300, 700, 1200]\n",
    "tezina = [150, 5, 10, 20, 15, 8, 12]\n",
    "izabrani = []"
   ]
  },
  {
   "cell_type": "code",
   "execution_count": 21,
   "id": "f56e1378",
   "metadata": {},
   "outputs": [
    {
     "data": {
      "text/plain": [
       "3700"
      ]
     },
     "execution_count": 21,
     "metadata": {},
     "output_type": "execute_result"
    }
   ],
   "source": [
    "def ranacBruteForce(ranac, cena, tezina, n):\n",
    "    if ranac == 0 or n == 0:\n",
    "        return 0\n",
    "    # Ako je tezina ranca veca nego kapacitet ne ukljucujemo proizvod\n",
    "    if tezina[n-1] > ranac:\n",
    "        return ranacBruteForce(ranac, cena, tezina, n-1)\n",
    "    # 2 mogucnosti\n",
    "    # 1. Ukljucicemo n-ti proizvod\n",
    "    # 2. Ne uzimamo n-ti proizvod\n",
    "    else:\n",
    "        uzeli_smo_n = ranacBruteForce(ranac-tezina[n-1], cena, tezina, n-1)\n",
    "        bez_n = ranacBruteForce(ranac, cena, tezina, n-1)\n",
    "        return max(cena[n-1] + uzeli_smo_n, bez_n)\n",
    "    \n",
    "    \n",
    "\n",
    "# Laptop Desktop Bicikl Ipad - 3700\n",
    "ranacBruteForce(ranac, cena, tezina, len(proizvodi))    "
   ]
  },
  {
   "cell_type": "code",
   "execution_count": 52,
   "id": "0003dbbc",
   "metadata": {},
   "outputs": [
    {
     "ename": "ValueError",
     "evalue": "dictionary update sequence element #0 has length 7; 2 is required",
     "output_type": "error",
     "traceback": [
      "\u001b[0;31m---------------------------------------------------------------------------\u001b[0m",
      "\u001b[0;31mValueError\u001b[0m                                Traceback (most recent call last)",
      "\u001b[0;32m/var/folders/36/86kym5_x4c143n6db4ly5v840000gn/T/ipykernel_13143/1375219757.py\u001b[0m in \u001b[0;36m<module>\u001b[0;34m\u001b[0m\n\u001b[1;32m      9\u001b[0m     \u001b[0;32mreturn\u001b[0m \u001b[0mvrednosti\u001b[0m\u001b[0;34m\u001b[0m\u001b[0;34m\u001b[0m\u001b[0m\n\u001b[1;32m     10\u001b[0m \u001b[0;34m\u001b[0m\u001b[0m\n\u001b[0;32m---> 11\u001b[0;31m \u001b[0mrez\u001b[0m \u001b[0;34m=\u001b[0m \u001b[0mranacOdnosCeneiTezine\u001b[0m\u001b[0;34m(\u001b[0m\u001b[0mranac\u001b[0m\u001b[0;34m,\u001b[0m \u001b[0mcena\u001b[0m\u001b[0;34m,\u001b[0m \u001b[0mtezina\u001b[0m\u001b[0;34m,\u001b[0m \u001b[0mproizvodi\u001b[0m\u001b[0;34m)\u001b[0m\u001b[0;34m\u001b[0m\u001b[0;34m\u001b[0m\u001b[0m\n\u001b[0m\u001b[1;32m     12\u001b[0m \u001b[0;32mfor\u001b[0m \u001b[0mi\u001b[0m \u001b[0;32min\u001b[0m \u001b[0mrez\u001b[0m\u001b[0;34m:\u001b[0m\u001b[0;34m\u001b[0m\u001b[0;34m\u001b[0m\u001b[0m\n\u001b[1;32m     13\u001b[0m     \u001b[0mprint\u001b[0m\u001b[0;34m(\u001b[0m\u001b[0mi\u001b[0m\u001b[0;34m,\u001b[0m \u001b[0mrez\u001b[0m\u001b[0;34m[\u001b[0m\u001b[0mi\u001b[0m\u001b[0;34m]\u001b[0m\u001b[0;34m)\u001b[0m\u001b[0;34m\u001b[0m\u001b[0;34m\u001b[0m\u001b[0m\n",
      "\u001b[0;32m/var/folders/36/86kym5_x4c143n6db4ly5v840000gn/T/ipykernel_13143/1375219757.py\u001b[0m in \u001b[0;36mranacOdnosCeneiTezine\u001b[0;34m(ranac, cena, tezina, proizvodi)\u001b[0m\n\u001b[1;32m      4\u001b[0m         \u001b[0modnosi\u001b[0m\u001b[0;34m.\u001b[0m\u001b[0mappend\u001b[0m\u001b[0;34m(\u001b[0m\u001b[0mcena\u001b[0m\u001b[0;34m[\u001b[0m\u001b[0mi\u001b[0m\u001b[0;34m]\u001b[0m\u001b[0;34m/\u001b[0m\u001b[0mtezina\u001b[0m\u001b[0;34m[\u001b[0m\u001b[0mi\u001b[0m\u001b[0;34m]\u001b[0m\u001b[0;34m)\u001b[0m\u001b[0;34m\u001b[0m\u001b[0;34m\u001b[0m\u001b[0m\n\u001b[1;32m      5\u001b[0m \u001b[0;34m\u001b[0m\u001b[0m\n\u001b[0;32m----> 6\u001b[0;31m     \u001b[0mvrednosti\u001b[0m \u001b[0;34m=\u001b[0m \u001b[0mdict\u001b[0m\u001b[0;34m(\u001b[0m\u001b[0;34m(\u001b[0m\u001b[0mproizvodi\u001b[0m\u001b[0;34m,\u001b[0m \u001b[0modnosi\u001b[0m\u001b[0;34m)\u001b[0m\u001b[0;34m)\u001b[0m\u001b[0;34m\u001b[0m\u001b[0;34m\u001b[0m\u001b[0m\n\u001b[0m\u001b[1;32m      7\u001b[0m     \u001b[0mvrednosti\u001b[0m \u001b[0;34m=\u001b[0m \u001b[0msorted\u001b[0m\u001b[0;34m(\u001b[0m\u001b[0mvrednosti\u001b[0m\u001b[0;34m,\u001b[0m \u001b[0mkey\u001b[0m\u001b[0;34m=\u001b[0m\u001b[0mvrednosti\u001b[0m\u001b[0;34m.\u001b[0m\u001b[0mget\u001b[0m\u001b[0;34m)\u001b[0m\u001b[0;34m\u001b[0m\u001b[0;34m\u001b[0m\u001b[0m\n\u001b[1;32m      8\u001b[0m \u001b[0;34m\u001b[0m\u001b[0m\n",
      "\u001b[0;31mValueError\u001b[0m: dictionary update sequence element #0 has length 7; 2 is required"
     ]
    }
   ],
   "source": [
    "def ranacOdnosCeneiTezine(ranac, cena, tezina, proizvodi):\n",
    "    odnosi = []\n",
    "    for i in range(len(cena)):\n",
    "        odnosi.append(cena[i]/tezina[i])\n",
    "    \n",
    "    vrednosti = dict((proizvodi, odnosi))\n",
    "    vrednosti = sorted(vrednosti, key=vrednosti.get)\n",
    "\n",
    "    return vrednosti\n",
    "    \n",
    "rez = ranacOdnosCeneiTezine(ranac, cena, tezina, proizvodi)\n",
    "for i in rez:\n",
    "    print(i, rez[i])"
   ]
  },
  {
   "cell_type": "code",
   "execution_count": null,
   "id": "63646abb",
   "metadata": {},
   "outputs": [],
   "source": []
  }
 ],
 "metadata": {
  "kernelspec": {
   "display_name": "Python 3 (ipykernel)",
   "language": "python",
   "name": "python3"
  },
  "language_info": {
   "codemirror_mode": {
    "name": "ipython",
    "version": 3
   },
   "file_extension": ".py",
   "mimetype": "text/x-python",
   "name": "python",
   "nbconvert_exporter": "python",
   "pygments_lexer": "ipython3",
   "version": "3.9.7"
  }
 },
 "nbformat": 4,
 "nbformat_minor": 5
}
