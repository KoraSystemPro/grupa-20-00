{
 "cells": [
  {
   "cell_type": "code",
   "execution_count": 23,
   "id": "961b461a-3b2b-4d44-8249-510950a1636f",
   "metadata": {},
   "outputs": [
    {
     "name": "stdout",
     "output_type": "stream",
     "text": [
      "Niz a:\n",
      "[ 1  3  6 10]\n",
      "oblik = (4,)\n",
      "dimenzija = 1\n",
      "[[1. 2. 3.]\n",
      " [4. 5. 6.]]\n",
      "oblik = (2, 3)\n",
      "dimenzija = 2\n",
      "tip = float32\n"
     ]
    }
   ],
   "source": [
    "import numpy as np\n",
    "\n",
    "a = np.array([1, 3, 6, 10])\n",
    "print('Niz a:')\n",
    "print(a)\n",
    "print('oblik =', a.shape)\n",
    "print('dimenzija =', a.ndim)\n",
    "\n",
    "M = np.array([[1, 2, 3], [4, 5, 6]], dtype='')\n",
    "print(M)\n",
    "print('oblik =', M.shape)\n",
    "print('dimenzija =', M.ndim)\n",
    "print('tip =', M.dtype)"
   ]
  },
  {
   "cell_type": "code",
   "execution_count": 57,
   "id": "b986c73c-2d61-46bf-8bef-c8b8c7e25257",
   "metadata": {},
   "outputs": [
    {
     "name": "stdout",
     "output_type": "stream",
     "text": [
      "a1 = [0 1 2 3 4 5 6 7 8 9]\n",
      "a2 = [25 26 27 28 29]\n",
      "a3 = [10 15 20 25 30 35 40 45]\n",
      "a4 = [2.   2.25 2.5  2.75 3.  ]\n",
      "a5 = [0. 0. 0. 0. 0. 0. 0.]\n",
      "a6 = [0.26047922 0.15660463 0.74302895]\n",
      "a7 = [2.29655634 3.90368482 2.604874  ]\n",
      "M1 =\n",
      " [[1. 1. 1.]\n",
      " [1. 1. 1.]]\n",
      "M2 =\n",
      " [[1. 0. 0. 0.]\n",
      " [0. 1. 0. 0.]\n",
      " [0. 0. 1. 0.]\n",
      " [0. 0. 0. 1.]]\n",
      "M3 =\n",
      " [[1 0 0 0]\n",
      " [0 2 0 0]\n",
      " [0 0 3 0]\n",
      " [0 0 0 4]]\n",
      "M4 = \n",
      " [[0.71621865 0.88265353 0.29380334]\n",
      " [0.95180198 0.20258133 0.52595137]\n",
      " [0.19521578 0.19073414 0.36347396]\n",
      " [0.0359821  0.26397074 0.14855085]]\n",
      "M1 + M2 =\n",
      " [[ 3  7 11]\n",
      " [15 19 23]\n",
      " [27 31 35]]\n",
      "M1 * M2 =\n",
      " [[  2  12  30]\n",
      " [ 56  90 132]\n",
      " [182 240 306]]\n",
      "M1 x M2 =\n",
      " [[ 96 114 132]\n",
      " [240 294 348]\n",
      " [384 474 564]]\n",
      "M2 x M1 =\n",
      " [[108 132 156]\n",
      " [234 294 354]\n",
      " [360 456 552]]\n",
      "sin(M1) =\n",
      " [[ 0.84147098  0.14112001 -0.95892427]\n",
      " [ 0.6569866   0.41211849 -0.99999021]\n",
      " [ 0.42016704  0.65028784 -0.96139749]]\n"
     ]
    }
   ],
   "source": [
    "# Pravi niz sa odgovarajucim korakom\n",
    "a1 = np.arange(10)\n",
    "print('a1 =', a1)\n",
    "a2 = np.arange(25, 30)\n",
    "print('a2 =', a2)\n",
    "a3 = np.arange(10, 50, 5)\n",
    "print('a3 =', a3)\n",
    "\n",
    "# Ekvidistantne tacke\n",
    "a4 = np.linspace(2, 3, 5)\n",
    "print('a4 =', a4)\n",
    "\n",
    "# Niz koji se sastoji samo od nula\n",
    "a5 = np.zeros(7)\n",
    "print('a5 =', a5)\n",
    "\n",
    "# Generisanje nausmicnih brojeva:\n",
    "a6 = np.random.rand(3) # (n,m) puta random izmedju 0 i 1\n",
    "print('a6 =', a6)\n",
    "a7 = np.random.uniform(2, 5, 3) # izmedju 2-5, 3 nasumicna broja\n",
    "print('a7 =', a7)\n",
    "\n",
    "# Matrice\n",
    "M1 = np.ones((2, 3))\n",
    "print('M1 =\\n', M1)\n",
    "M2 = np.eye(4)\n",
    "print('M2 =\\n', M2)\n",
    "M3 = np.diag([1, 2, 3, 4])\n",
    "print('M3 =\\n', M3)\n",
    "M4 = np.random.rand(4, 3)\n",
    "print('M4 = \\n', M4)\n",
    "\n",
    "# Operacije sa matricama\n",
    "M1 = np.array([[1, 3, 5], [7, 9, 11], [13, 15, 17]])\n",
    "M2 = np.array([[2, 4, 6], [8, 10, 12], [14, 16, 18]])\n",
    "print('M1 + M2 =\\n', M1 + M2)\n",
    "print('M1 * M2 =\\n', M1 * M2)\n",
    "print('M1 x M2 =\\n', M1.dot(M2))\n",
    "print('M2 x M1 =\\n', M2.dot(M1))\n",
    "print('sin(M1) =\\n', np.sin(M1))"
   ]
  },
  {
   "cell_type": "code",
   "execution_count": 69,
   "id": "28fa5cc1-66a7-4e09-bc3f-e31145c76949",
   "metadata": {},
   "outputs": [
    {
     "name": "stdout",
     "output_type": "stream",
     "text": [
      "[ 0.  1.  2.  3.  4.  5.  6.  7.  8.  9. 10. 11. 12.]\n",
      "[ 0.          0.84147098  0.90929743  0.14112001 -0.7568025  -0.95892427\n",
      " -0.2794155   0.6569866   0.98935825  0.41211849 -0.54402111 -0.99999021\n",
      " -0.53657292]\n"
     ]
    },
    {
     "data": {
      "image/png": "[encoded data removed]",
      "text/plain": [
       "<Figure size 432x288 with 1 Axes>"
      ]
     },
     "metadata": {
      "needs_background": "light"
     },
     "output_type": "display_data"
    }
   ],
   "source": [
    "import matplotlib.pyplot as plt\n",
    "\n",
    "x = np.arange(0, 2*2*np.pi, 1)\n",
    "print(x)\n",
    "y = np.sin(x)\n",
    "print(y)\n",
    "\n",
    "p = np.arange(0, 2*2*np.pi, 0.1)\n",
    "q = np.sin(p)\n",
    "\n",
    "plt.scatter(x, y, color='red')\n",
    "plt.plot(p, q, color='green')\n",
    "plt.show()"
   ]
  },
  {
   "cell_type": "code",
   "execution_count": null,
   "id": "bb806d40-6c0b-4e58-ae56-c6ecb4bfbd92",
   "metadata": {},
   "outputs": [],
   "source": []
  }
 ],
 "metadata": {
  "kernelspec": {
   "display_name": "Python 3 (ipykernel)",
   "language": "python",
   "name": "python3"
  },
  "language_info": {
   "codemirror_mode": {
    "name": "ipython",
    "version": 3
   },
   "file_extension": ".py",
   "mimetype": "text/x-python",
   "name": "python",
   "nbconvert_exporter": "python",
   "pygments_lexer": "ipython3",
   "version": "3.9.7"
  }
 },
 "nbformat": 4,
 "nbformat_minor": 5
}
