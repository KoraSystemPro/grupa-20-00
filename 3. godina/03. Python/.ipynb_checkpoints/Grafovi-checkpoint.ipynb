{
 "cells": [
  {
   "cell_type": "markdown",
   "id": "3e176447",
   "metadata": {},
   "source": [
    "# Grafovi\n",
    "## PRETRAGE"
   ]
  },
  {
   "cell_type": "markdown",
   "id": "5b2ef809",
   "metadata": {},
   "source": [
    "### DFS (Pretraga u dubinu)"
   ]
  },
  {
   "cell_type": "code",
   "execution_count": 1,
   "id": "b3a1517e",
   "metadata": {},
   "outputs": [],
   "source": [
    "primer = {\n",
    "    0 : set([1, 2, 3]),\n",
    "    1 : set([0]),\n",
    "    2 : set([0, 4]),\n",
    "    3 : set([0]),\n",
    "    4 : set([2]),\n",
    "    5 : set([6, 7]),\n",
    "    6 : set([5, 7]),\n",
    "    7 : set([5, 6]),\n",
    "    8 : set()\n",
    "}"
   ]
  },
  {
   "cell_type": "code",
   "execution_count": 60,
   "id": "12670bc1",
   "metadata": {},
   "outputs": [
    {
     "name": "stdout",
     "output_type": "stream",
     "text": [
      "{0, 1, 2, 3, 4}\n"
     ]
    }
   ],
   "source": [
    "# DFS(G, cvor)\n",
    "#     cvor.posecen = true\n",
    "#     for sused in G.susedi(cvor):\n",
    "#         if sused.posecen == false: \n",
    "#             DFS(G, susedi)\n",
    "\n",
    "class graf:\n",
    "    def __init__(self):\n",
    "        self.susedi = {}\n",
    "        \n",
    "def dfs(graf, cvor, poseceni = None):\n",
    "    # Pravimo praznu listu posecenih\n",
    "    if poseceni is None:\n",
    "        poseceni = set()\n",
    "    \n",
    "    # Posecujemo ternutan cvor u kome se nalazimo\n",
    "    poseceni.add(cvor)\n",
    "    # Trazimo sve komsije trenutnog cvora\n",
    "    for komsija in graf[cvor]:\n",
    "        # Ulazimo u pretragu komsije koji nije bio posecen\n",
    "        if komsija not in poseceni:\n",
    "            dfs(graf, komsija, poseceni)\n",
    "    # Vracamo popunjen spisak posecenih\n",
    "    return poseceni\n",
    "\n",
    "# def nadji_broj_komponenti(graf):\n",
    "#     cvorovi = set(graf.keys())\n",
    "#     while cvorovi != None:\n",
    "#         poseceni = dfs(graf, cvorovi[0])\n",
    "#         print(poseceni)\n",
    "#         cvorovi = cvorovi.difference(poseceni)\n",
    "    \n",
    "print(dfs(primer, 0))\n"
   ]
  },
  {
   "cell_type": "code",
   "execution_count": 79,
   "id": "e48d8351",
   "metadata": {},
   "outputs": [
    {
     "name": "stdout",
     "output_type": "stream",
     "text": [
      "frozenset({5, 6, 7})\n",
      "frozenset({8})\n",
      "frozenset({0, 1, 2, 3, 4})\n"
     ]
    },
    {
     "data": {
      "image/png": "[encoded data removed]",
      "text/plain": [
       "<Figure size 432x288 with 1 Axes>"
      ]
     },
     "metadata": {
      "needs_background": "light"
     },
     "output_type": "display_data"
    }
   ],
   "source": [
    "import matplotlib.pyplot as plt\n",
    "import random\n",
    "\n",
    "def add_labels(line):\n",
    "    x,y=line.get_data()\n",
    "    labels=map(','.join,zip(map(lambda s: '%g'%s,x),map(lambda s: '%g'%s,y)))\n",
    "    map(plt.text,x,y,labels)\n",
    "\n",
    "def iscrtaj_graf(graf):\n",
    "    koordinate = {}\n",
    "    x = []\n",
    "    y = []\n",
    "    for cvor in graf:\n",
    "        a = random.random()*100\n",
    "        b = random.random()*100\n",
    "        koordinate[cvor] = (a, b)\n",
    "        x.append(a)\n",
    "        y.append(b)\n",
    "\n",
    "    plt.scatter(x, y)\n",
    "    for cvor in graf:\n",
    "        plt.text(koordinate[cvor][0], koordinate[cvor][1], str(cvor))\n",
    "\n",
    "    podgrafovi = list()\n",
    "    neposeceni = set(graf)\n",
    "    for cvor in neposeceni:\n",
    "        komponenta_grafa = dfs(graf, cvor)\n",
    "        neposeceni = neposeceni - komponenta_grafa\n",
    "        podgrafovi.append(komponenta_grafa)\n",
    "        \n",
    "    podgrafovi = set(frozenset(podgraf) for podgraf in podgrafovi)\n",
    "    for podgraf in podgrafovi:\n",
    "        print(podgraf)\n",
    "        color = (random.random(), random.random(), random.random()) # r, g, b\n",
    "        for cvor in graf:\n",
    "            for sused in graf[cvor]:\n",
    "                plt.plot((x[cvor], x[sused]), (y[cvor], y[sused]), c=color)\n",
    "\n",
    "    plt.show()\n",
    "\n",
    "iscrtaj_graf(primer)"
   ]
  },
  {
   "cell_type": "code",
   "execution_count": null,
   "id": "29d1c98a",
   "metadata": {},
   "outputs": [],
   "source": []
  }
 ],
 "metadata": {
  "kernelspec": {
   "display_name": "Python 3 (ipykernel)",
   "language": "python",
   "name": "python3"
  },
  "language_info": {
   "codemirror_mode": {
    "name": "ipython",
    "version": 3
   },
   "file_extension": ".py",
   "mimetype": "text/x-python",
   "name": "python",
   "nbconvert_exporter": "python",
   "pygments_lexer": "ipython3",
   "version": "3.9.7"
  }
 },
 "nbformat": 4,
 "nbformat_minor": 5
}
