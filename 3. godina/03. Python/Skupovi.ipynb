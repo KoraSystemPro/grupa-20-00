{
 "cells": [
  {
   "cell_type": "code",
   "execution_count": 13,
   "id": "4c46c0dc",
   "metadata": {},
   "outputs": [
    {
     "name": "stdout",
     "output_type": "stream",
     "text": [
      "True False\n"
     ]
    }
   ],
   "source": [
    "# 1. Za niz celih brojeva proveriti da li sadrzi duplikate\n",
    "\n",
    "ulaz1 = [3, 9, 5, 1, 2, 6, 4, 2, 7, 8]\n",
    "# Sadrzi duplikate -> true\n",
    "ulaz2 = [1, 2, 3, 4]\n",
    "# Nema duplikata -> false\n",
    "\n",
    "# O(n^2)\n",
    "def ima_duplikata_lose(niz):\n",
    "    for i in range(len(niz)):\n",
    "        for j in range(i+1, len(niz)):\n",
    "            if(niz[i] == niz[j]):\n",
    "                return True\n",
    "    return False\n",
    "\n",
    "print(ima_duplikata_lose(ulaz1),ima_duplikata_lose(ulaz2))\n",
    "        "
   ]
  },
  {
   "cell_type": "markdown",
   "id": "5bb010f3",
   "metadata": {},
   "source": [
    "Prethodna funkcija je loša zato što za svaki element niza moramo proći još jedanput kroz ceo niz.\n",
    "\n",
    "\n",
    "Efikasnije rešenje je da sortiramo niz rastuće npr i da proveravamo svaka dva uzastopna para da li su ista.\n",
    "- Sortiranje niza (sort() - O(n*logn))\n",
    "- Prolazak/provera niza (O(n))\n",
    "O(n*logn) + O(n) ~ O(n*logn)"
   ]
  },
  {
   "cell_type": "code",
   "execution_count": 12,
   "id": "7424632b",
   "metadata": {},
   "outputs": [
    {
     "name": "stdout",
     "output_type": "stream",
     "text": [
      "True False\n"
     ]
    }
   ],
   "source": [
    "def ima_duplikata_bolja(niz):\n",
    "    niz.sort()\n",
    "    for i in range(len(niz)-1):\n",
    "        if(niz[i] == niz[i+1]):\n",
    "            return True\n",
    "    return False\n",
    "\n",
    "print(ima_duplikata_bolja(ulaz1), ima_duplikata_bolja(ulaz2))"
   ]
  },
  {
   "cell_type": "markdown",
   "id": "59078eca",
   "metadata": {},
   "source": [
    "Ovo je mnogo bolje rešenje, ali ima u još boljoj vremenskoj složenosti\n",
    "\n",
    "Skup je struktura podataka koja ne sadrži duplikate"
   ]
  },
  {
   "cell_type": "code",
   "execution_count": 17,
   "id": "27c0583e",
   "metadata": {},
   "outputs": [
    {
     "name": "stdout",
     "output_type": "stream",
     "text": [
      "True True\n"
     ]
    }
   ],
   "source": [
    "def ima_duplikata_najbolje(niz):\n",
    "    skup_bez_duplikata = set(niz)\n",
    "    # Lici na ternarni\n",
    "    # neki_uslov ? ako_je_tacan : ako_je_netacan\n",
    "    # return True if len(skup_bez_duplikata) < len(niz) else False\n",
    "    if len(skup_bez_duplikata) < len(niz):\n",
    "        return True\n",
    "    else:\n",
    "        return False\n",
    "    \n",
    "print(ima_duplikata_najbolje(ulaz1), ima_duplikata_najbolje(ulaz1))"
   ]
  },
  {
   "cell_type": "code",
   "execution_count": 23,
   "id": "e570c123",
   "metadata": {},
   "outputs": [
    {
     "name": "stdout",
     "output_type": "stream",
     "text": [
      "Unija {'buzir', 'pereca', 'burek', 'kalaj', 'dugme', 'pletenica', 'hleb', 'jogurt'}\n",
      "Presek {'pletenica'}\n",
      "Razlika {'pereca', 'hleb', 'burek', 'jogurt'}\n"
     ]
    }
   ],
   "source": [
    "# 2. Za zadata dva niza, vratiti njihov presek\n",
    "\n",
    "niz1 = ['hleb', 'pereca', 'burek', 'jogurt', 'pletenica']\n",
    "niz2 = ['dugme', 'pletenica', 'buzir', 'kalaj']\n",
    "\n",
    "# Igranje sa skupovima\n",
    "skup1 = set(niz1)\n",
    "skup2 = set(niz2)\n",
    "print(\"Unija\", skup1.union(skup2))   # skup1 | skup2\n",
    "print(\"Presek\", skup1.intersection(skup2))   # skup1 & skup2\n",
    "print(\"Razlika\", skup1.difference(skup2))\n"
   ]
  },
  {
   "cell_type": "code",
   "execution_count": 28,
   "id": "257f099e",
   "metadata": {},
   "outputs": [
    {
     "name": "stdout",
     "output_type": "stream",
     "text": [
      "['type', 'top', 'gas', 'dash']\n"
     ]
    }
   ],
   "source": [
    "# 3. Za zadatu listu reci, vratiti reci koje se mogu otkucati sa slovima\n",
    "#    koja se nalaze na engleskoj tastaturi, tako da se sva slova\n",
    "#    nalaze u jednom redu\n",
    "\n",
    "reci = ['music', 'type', 'top', 'gas', 'dash', 'phone']\n",
    "# rez ['type', 'top', 'gas', 'dash']\n",
    "\n",
    "def izdvoji_moguce(lista_reci):\n",
    "    red1 = \"qwertyuiop\"\n",
    "    red2 = \"asdfghjkl\"\n",
    "    red3 = \"zxcvbnm\"\n",
    "    \n",
    "    rezultat = []\n",
    "    for rec in lista_reci:\n",
    "        slova = set([karakter.lower() for karakter in rec])\n",
    "        if not slova.difference(red1) or not slova.difference(red2) or not slova.difference(red3):\n",
    "            rezultat.append(rec)\n",
    "                \n",
    "    return rezultat\n",
    "        \n",
    "print(izdvoji_moguce(reci))\n",
    "\n",
    "\n"
   ]
  },
  {
   "cell_type": "code",
   "execution_count": null,
   "id": "5b51b391",
   "metadata": {},
   "outputs": [],
   "source": []
  }
 ],
 "metadata": {
  "kernelspec": {
   "display_name": "Python 3 (ipykernel)",
   "language": "python",
   "name": "python3"
  },
  "language_info": {
   "codemirror_mode": {
    "name": "ipython",
    "version": 3
   },
   "file_extension": ".py",
   "mimetype": "text/x-python",
   "name": "python",
   "nbconvert_exporter": "python",
   "pygments_lexer": "ipython3",
   "version": "3.9.7"
  }
 },
 "nbformat": 4,
 "nbformat_minor": 5
}
